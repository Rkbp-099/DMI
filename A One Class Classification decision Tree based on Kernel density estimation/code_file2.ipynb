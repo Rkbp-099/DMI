{
  "nbformat": 4,
  "nbformat_minor": 0,
  "metadata": {
    "colab": {
      "name": "OneClassTree_voco.ipynb",
      "provenance": []
    },
    "kernelspec": {
      "name": "python3",
      "display_name": "Python 3",
      "language": "python"
    },
    "language_info": {
      "name": "python",
      "version": "3.7.6-final"
    }
  },
  "cells": [
    {
      "cell_type": "code",
      "metadata": {
        "colab": {
          "base_uri": "https://localhost:8080/"
        },
        "id": "x1BCmDoB7Gs_",
        "outputId": "2963447a-6686-420a-f4d9-9d6edf9bcb31"
      },
      "source": [
        "from google.colab import drive\n",
        "drive.mount('/content/drive')"
      ],
      "execution_count": null,
      "outputs": [
        {
          "output_type": "stream",
          "text": [
            "Mounted at /content/drive\n"
          ],
          "name": "stdout"
        }
      ]
    },
    {
      "cell_type": "code",
      "execution_count": 4,
      "metadata": {},
      "outputs": [],
      "source": [
        "#Done by \n",
        "#iit2018115 (Shubham Kumar)\n",
        "#iit2018125 (Raktim Bijoypuri)\n",
        "#iit2018126 (Aditya Kamble)\n",
        "#iit2018128 (Aakashdeep)\n",
        "#iit2018135 (Tejas Mane)"
      ]
    },
    {
      "cell_type": "code",
      "metadata": {
        "id": "3kVwLH5cQLZF"
      },
      "source": [
        "import pandas as pd\n",
        "train_data = pd.read_csv(\"/content/trainData_final.csv\",sep='^',index_col=[0])\n",
        "train_data.head()\n",
        "som_data = train_data[train_data['label']=='person'][:500].copy(deep=True)\n",
        "train_data = train_data[train_data['label']!='person']\n",
        "train_data = train_data.append(som_data)\n",
        "\n",
        "test_data = pd.read_csv(\"/content/testData.csv\",sep='^',index_col=[0])\n",
        "som_data = test_data[test_data['label']=='person'][:500].copy(deep=True)\n",
        "test_data = test_data[test_data['label']!='person']\n",
        "test_data = test_data.append(som_data)\n"
      ],
      "execution_count": null,
      "outputs": []
    },
    {
      "cell_type": "code",
      "metadata": {
        "colab": {
          "base_uri": "https://localhost:8080/"
        },
        "id": "VSvRggSXrrgn",
        "outputId": "9a19f0e3-f18d-429d-a063-542b8a0b5ce2"
      },
      "source": [
        "train_data = train_data.sample(frac =1)\n",
        "test_data = test_data.sample(frac =1)\n",
        "len(train_data)"
      ],
      "execution_count": null,
      "outputs": [
        {
          "output_type": "execute_result",
          "data": {
            "text/plain": [
              "7558"
            ]
          },
          "metadata": {
            "tags": []
          },
          "execution_count": 4
        }
      ]
    },
    {
      "cell_type": "code",
      "metadata": {
        "colab": {
          "base_uri": "https://localhost:8080/"
        },
        "id": "11gl0sPfZGU6",
        "outputId": "3c6f2a05-61a7-4122-a978-6eb672b70424"
      },
      "source": [
        "import cv2\n",
        "from tqdm import tqdm\n",
        "import numpy as np\n",
        "train_x = []\n",
        "for row in tqdm(train_data.iterrows(),position=0,leave=True):\n",
        "  # print(row[1]['name'])\n",
        "  train_x.append(cv2.resize(cv2.imread(\"/content/archive/VOC2012/JPEGImages/\"+row[1]['filename']+\".jpg\"),(100,100)))\n",
        "  # print(train_x)"
      ],
      "execution_count": null,
      "outputs": [
        {
          "output_type": "stream",
          "text": [
            "7558it [00:42, 179.73it/s]\n"
          ],
          "name": "stderr"
        }
      ]
    },
    {
      "cell_type": "code",
      "metadata": {
        "colab": {
          "base_uri": "https://localhost:8080/"
        },
        "id": "a_qy6UlecE3M",
        "outputId": "aeebb9e2-07f7-46d1-e8f5-a2dc47e0326d"
      },
      "source": [
        "import cv2\n",
        "from tqdm import tqdm\n",
        "import numpy as np\n",
        "test_x = []\n",
        "for row in tqdm(test_data.iterrows(),position=0,leave=True):\n",
        "  # print(row[1]['name'])\n",
        "  test_x.append(cv2.resize(cv2.imread(\"/content/archive/VOC2012/JPEGImages/\"+row[1]['filename']+\".jpg\"),(100,100)))\n",
        "  # print(train_x)"
      ],
      "execution_count": null,
      "outputs": [
        {
          "output_type": "stream",
          "text": [
            "7580it [00:41, 180.62it/s]\n"
          ],
          "name": "stderr"
        }
      ]
    },
    {
      "cell_type": "code",
      "metadata": {
        "id": "tuB7l0WFZHAn"
      },
      "source": [
        "train_x = np.array(train_x).reshape(len(train_data),30000)\n",
        "test_x = np.array(test_x).reshape(len(test_data),30000)"
      ],
      "execution_count": null,
      "outputs": []
    },
    {
      "cell_type": "code",
      "metadata": {
        "colab": {
          "base_uri": "https://localhost:8080/",
          "height": 282
        },
        "id": "w9nerkOkru03",
        "outputId": "7c351e2b-91c9-455c-aedb-31883a0f1605"
      },
      "source": [
        "test_dataf['label'].hist(bins=120)"
      ],
      "execution_count": null,
      "outputs": [
        {
          "output_type": "execute_result",
          "data": {
            "text/plain": [
              "<matplotlib.axes._subplots.AxesSubplot at 0x7fae96a7bd10>"
            ]
          },
          "metadata": {
            "tags": []
          },
          "execution_count": 30
        },
        {
          "output_type": "display_data",
          "data": {
            "image/png": "[encoded data removed]",
            "text/plain": [
              "<Figure size 432x288 with 1 Axes>"
            ]
          },
          "metadata": {
            "tags": [],
            "needs_background": "light"
          }
        }
      ]
    },
    {
      "cell_type": "code",
      "metadata": {
        "colab": {
          "base_uri": "https://localhost:8080/",
          "height": 282
        },
        "id": "bXHmapqKD640",
        "outputId": "21a1c682-92df-4e08-c08b-170ef9a073cf"
      },
      "source": [
        "traindataf['label'].hist(bins=120)"
      ],
      "execution_count": null,
      "outputs": [
        {
          "output_type": "execute_result",
          "data": {
            "text/plain": [
              "<matplotlib.axes._subplots.AxesSubplot at 0x7fae896e63d0>"
            ]
          },
          "metadata": {
            "tags": []
          },
          "execution_count": 31
        },
        {
          "output_type": "display_data",
          "data": {
            "image/png": "[encoded data removed]",
            "text/plain": [
              "<Figure size 432x288 with 1 Axes>"
            ]
          },
          "metadata": {
            "tags": [],
            "needs_background": "light"
          }
        }
      ]
    },
    {
      "cell_type": "code",
      "metadata": {
        "id": "dZ35VJng4Fyi",
        "colab": {
          "base_uri": "https://localhost:8080/"
        },
        "outputId": "2277d00d-92ad-4d2b-8da8-55d4169ce088"
      },
      "source": [
        "from tensorflow.keras.applications.vgg16 import VGG16\n",
        "from tensorflow.keras.preprocessing import image\n",
        "from tensorflow.keras.applications.vgg16 import preprocess_input\n",
        "import numpy as np\n",
        "a,b = train_x.shape\n",
        "train_x = train_x.reshape((a,100,100,3))\n",
        "model = VGG16(weights='imagenet', include_top=False,input_shape=(100,100,3))\n",
        "\n",
        "\n",
        "x = preprocess_input(train_x)\n",
        "\n",
        "features_y = model.predict(x)\n",
        "train_data_cnn = features_y\n"
      ],
      "execution_count": null,
      "outputs": [
        {
          "output_type": "stream",
          "text": [
            "Downloading data from https://storage.googleapis.com/tensorflow/keras-applications/vgg16/vgg16_weights_tf_dim_ordering_tf_kernels_notop.h5\n",
            "58892288/58889256 [==============================] - 1s 0us/step\n"
          ],
          "name": "stdout"
        }
      ]
    },
    {
      "cell_type": "code",
      "metadata": {
        "id": "Kw1xwCmiA58m"
      },
      "source": [
        "from tensorflow.keras.applications.vgg16 import VGG16\n",
        "from tensorflow.keras.preprocessing import image\n",
        "from tensorflow.keras.applications.vgg16 import preprocess_input\n",
        "import numpy as np\n",
        "a,b = test_dataf_cop.shape\n",
        "test_dataf_cop = test_dataf_cop.reshape((a,100,100,3))\n",
        "model = VGG16(weights='imagenet', include_top=False,input_shape=(100,100,3))\n",
        "\n",
        "\n",
        "x = preprocess_input(test_dataf_cop)\n",
        "\n",
        "features_y = model.predict(x)\n",
        "test_data_cnn = features_y\n"
      ],
      "execution_count": null,
      "outputs": []
    },
    {
      "cell_type": "code",
      "metadata": {
        "id": "UYJpmV3d9_tn"
      },
      "source": [
        "train_data_cnn = train_data_cnn.reshape(len(train_data_cnn),512*9)\n",
        "traindataf = pd.DataFrame(train_data_cnn,columns = np.arange(1,train_data_cnn.shape[1]+1))\n",
        "traindataf['label'] = train_data['label'][:len(train_data_cnn)].reset_index(drop=True)"
      ],
      "execution_count": null,
      "outputs": []
    },
    {
      "cell_type": "code",
      "metadata": {
        "id": "24qyUuay9_ts"
      },
      "source": [
        "test_data_cnn = test_data_cnn.reshape(len(test_data_cnn),512*9)\n",
        "test_dataf = pd.DataFrame(test_data_cnn,columns = np.arange(1,test_data_cnn.shape[1]+1))\n",
        "test_dataf['label'] = test_data['label'][:len(test_data_cnn)].reset_index(drop=True)"
      ],
      "execution_count": null,
      "outputs": []
    },
    {
      "cell_type": "code",
      "metadata": {
        "id": "9X5IUOrqdkG-"
      },
      "source": [
        "def label_data(label):\n",
        "  labels = np.array(traindataf['label'].unique())\n",
        "  df = []\n",
        "  for l in labels:\n",
        "    if(l==label):\n",
        "      df.append(traindataf[traindataf['label']==l])\n",
        "    else:\n",
        "      df.append(traindataf[traindataf['label']==l].sample(frac=0.04))\n",
        "  return pd.concat(df)"
      ],
      "execution_count": null,
      "outputs": []
    },
    {
      "cell_type": "code",
      "metadata": {
        "id": "QJHxQwodFKup"
      },
      "source": [
        "import numpy as np\n",
        "from sklearn.ensemble import IsolationForest\n",
        "OCtree_for_label = {}\n",
        "int_to_letter = {}\n",
        "for i,l in enumerate(np.array(traindataf['label'].unique())):\n",
        "  int_to_letter[i]=l\n",
        "  data_label = label_data(l)\n",
        "  clf = IsolationForest().fit(data_label.drop('label',axis=1))\n",
        "  OCtree_for_label[l]=clf"
      ],
      "execution_count": null,
      "outputs": []
    },
    {
      "cell_type": "code",
      "metadata": {
        "id": "_l-CjXk6FKuq"
      },
      "source": [
        "predictions = []\n",
        "for let in OCtree_for_label:\n",
        "  predictions.append(OCtree_for_label[let].decision_function(test_dataf.drop('label',axis=1)))"
      ],
      "execution_count": null,
      "outputs": []
    },
    {
      "cell_type": "code",
      "metadata": {
        "id": "IDnW03X9FKus"
      },
      "source": [
        "predictions = np.array(predictions).T"
      ],
      "execution_count": null,
      "outputs": []
    },
    {
      "cell_type": "code",
      "metadata": {
        "id": "5ndxrfpuFKut"
      },
      "source": [
        "ans = []\n",
        "for i,pred in enumerate(predictions):\n",
        "  ans.append(int_to_letter[pred.argmax()])"
      ],
      "execution_count": null,
      "outputs": []
    },
    {
      "cell_type": "code",
      "metadata": {
        "colab": {
          "base_uri": "https://localhost:8080/"
        },
        "id": "GPv9V7q-FKuu",
        "outputId": "426de0d2-4244-445c-a56e-18b7202ec637"
      },
      "source": [
        "from sklearn.metrics import classification_report\n",
        "print(classification_report(test_dataf['label'], ans))"
      ],
      "execution_count": null,
      "outputs": [
        {
          "output_type": "stream",
          "text": [
            "              precision    recall  f1-score   support\n",
            "\n",
            "   aeroplane       0.31      0.20      0.24        51\n",
            "     bicycle       0.00      0.00      0.00        32\n",
            "        bird       0.26      0.17      0.21        46\n",
            "        boat       0.09      0.07      0.08        30\n",
            "      bottle       0.07      0.02      0.03        47\n",
            "         bus       0.17      0.29      0.22        35\n",
            "         car       0.28      0.24      0.26        79\n",
            "         cat       0.20      0.19      0.19        69\n",
            "       chair       0.02      0.01      0.02        74\n",
            "         cow       0.09      0.29      0.13        17\n",
            " diningtable       0.07      0.09      0.08        45\n",
            "         dog       0.23      0.31      0.26        78\n",
            "       horse       0.08      0.31      0.13        35\n",
            "   motorbike       0.10      0.23      0.14        39\n",
            "      person       0.10      0.02      0.03       212\n",
            " pottedplant       0.08      0.07      0.07        29\n",
            "       sheep       0.06      0.12      0.08        16\n",
            "        sofa       0.03      0.03      0.03        31\n",
            "   tvmonitor       0.03      0.03      0.03        35\n",
            "\n",
            "    accuracy                           0.13      1000\n",
            "   macro avg       0.12      0.14      0.12      1000\n",
            "weighted avg       0.13      0.13      0.12      1000\n",
            "\n"
          ],
          "name": "stdout"
        }
      ]
    }
  ]
}