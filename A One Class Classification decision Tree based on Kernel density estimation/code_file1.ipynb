{
  "nbformat": 4,
  "nbformat_minor": 0,
  "metadata": {
    "colab": {
      "name": "OneClassTree_letter.ipynb",
      "provenance": []
    },
    "kernelspec": {
      "name": "python3",
      "display_name": "Python 3",
      "language": "python"
    },
    "language_info": {
      "name": "python",
      "version": "3.7.6-final"
    }
  },
  "cells": [
    {
      "cell_type": "code",
      "metadata": {
        "id": "G7TPZcLFrsm1"
      },
      "source": [
        "from sklearn.neighbors import KernelDensity\n",
        "import pandas as pd\n",
        "data = pd.read_csv(\"letter-recognition.data\")"
      ],
      "execution_count": 2,
      "outputs": []
    },
    {
      "cell_type": "markdown",
      "metadata": {
        "id": "pz8sTf3l-r89"
      },
      "source": [
        "#Done by \n",
        "#iit2018115 (Shubham Kumar)\n",
        "#iit2018125 (Raktim Bijoypuri)\n",
        "#iit2018126 (Aditya Kamble)\n",
        "#iit2018128 (Aakashdeep)\n",
        "#iit2018135 (Tejas Mane)"
      ]
    },
    {
      "cell_type": "code",
      "metadata": {
        "id": "CqyixrsIyeWI"
      },
      "source": [
        "train_data = data.sample(frac=0.7\n",
        "test_data = data.drop(train_data.index)"
      ],
      "execution_count": 3,
      "outputs": []
    },
    {
      "cell_type": "code",
      "metadata": {
        "id": "r68SxnQdyowk"
      },
      "source": [
        "def label_data(label):\n",
        "  labels = np.array(train_data['Label'].unique())\n",
        "  df = []\n",
        "  for l in labels:\n",
        "    if(l==label):\n",
        "      df.append(train_data[train_data['Label']==l])\n",
        "    else:\n",
        "      df.append(train_data[train_data['Label']==l].sample(frac=0.04))\n",
        "  return pd.concat(df)"
      ],
      "execution_count": 4,
      "outputs": []
    },
    {
      "cell_type": "code",
      "metadata": {
        "id": "FizUqVuSy1Vk"
      },
      "source": [
        "import numpy as np\n",
        "from sklearn.ensemble import IsolationForest\n",
        "OCtree_for_label = {}\n",
        "int_to_letter = {}\n",
        "for i,l in enumerate(np.array(train_data['Label'].unique())):\n",
        "  int_to_letter[i]=l\n",
        "  data_label = label_data(l)\n",
        "  clf = IsolationForest().fit(data_label.drop('Label',axis=1))\n",
        "  OCtree_for_label[l]=clf"
      ],
      "execution_count": 5,
      "outputs": []
    },
    {
      "cell_type": "code",
      "metadata": {
        "id": "baIPxd8Fy9XI"
      },
      "source": [
        "predictions = []\n",
        "for let in OCtree_for_label:\n",
        "  predictions.append(OCtree_for_label[let].decision_function(test_data.drop('Label',axis=1)))"
      ],
      "execution_count": 6,
      "outputs": []
    },
    {
      "cell_type": "code",
      "metadata": {
        "colab": {
          "base_uri": "https://localhost:8080/"
        },
        "id": "mTudRtRJ4W69",
        "outputId": "73449396-8c46-4c6b-8db4-1f23105f7d3d"
      },
      "source": [
        "np.array(predictions[0][6])"
      ],
      "execution_count": 7,
      "outputs": [
        {
          "output_type": "execute_result",
          "data": {
            "text/plain": [
              "array(0.04518668)"
            ]
          },
          "metadata": {},
          "execution_count": 7
        }
      ]
    },
    {
      "cell_type": "code",
      "metadata": {
        "id": "hw4ARjpay-CV"
      },
      "source": [
        "predictions = np.array(predictions).T"
      ],
      "execution_count": 8,
      "outputs": []
    },
    {
      "cell_type": "code",
      "metadata": {
        "colab": {
          "base_uri": "https://localhost:8080/"
        },
        "id": "WdHTTTfi4K5A",
        "outputId": "c0fda611-b094-4ad2-a56b-58df5e928708"
      },
      "source": [
        "predictions.shape"
      ],
      "execution_count": 9,
      "outputs": [
        {
          "output_type": "execute_result",
          "data": {
            "text/plain": [
              "(6000, 26)"
            ]
          },
          "metadata": {},
          "execution_count": 9
        }
      ]
    },
    {
      "cell_type": "code",
      "metadata": {
        "id": "Lk3P9uufzG9o"
      },
      "source": [
        "ans = []\n",
        "for i,pred in enumerate(predictions):\n",
        "  ans.append(int_to_letter[pred.argmax()])"
      ],
      "execution_count": 10,
      "outputs": []
    },
    {
      "cell_type": "code",
      "metadata": {
        "colab": {
          "base_uri": "https://localhost:8080/"
        },
        "id": "Jy2C0BCdzJWL",
        "outputId": "74eeed4c-fc18-424d-80e8-1d2993f1da12"
      },
      "source": [
        "from sklearn.metrics import classification_report\n",
        "print(classification_report(test_data['Label'], ans))"
      ],
      "execution_count": 11,
      "outputs": [
        {
          "output_type": "stream",
          "name": "stdout",
          "text": [
            "              precision    recall  f1-score   support\n\n           A       0.82      0.84      0.83       240\n           B       0.53      0.68      0.59       224\n           C       0.61      0.77      0.68       202\n           D       0.63      0.67      0.65       221\n           E       0.69      0.52      0.60       235\n           F       0.74      0.63      0.68       252\n           G       0.51      0.43      0.46       236\n           H       0.71      0.36      0.48       226\n           I       0.97      0.69      0.81       225\n           J       0.79      0.75      0.77       207\n           K       0.55      0.62      0.58       215\n           L       0.99      0.74      0.85       242\n           M       0.45      0.90      0.60       252\n           N       0.90      0.53      0.67       237\n           O       0.52      0.66      0.58       201\n           P       0.83      0.75      0.79       241\n           Q       0.44      0.68      0.54       246\n           R       0.75      0.47      0.58       213\n           S       0.65      0.35      0.46       211\n           T       0.72      0.70      0.71       236\n           U       0.73      0.76      0.74       241\n           V       0.84      0.58      0.68       238\n           W       0.51      0.91      0.65       243\n           X       0.68      0.46      0.55       263\n           Y       0.71      0.64      0.68       224\n           Z       0.58      0.72      0.64       229\n\n    accuracy                           0.65      6000\n   macro avg       0.69      0.65      0.65      6000\nweighted avg       0.69      0.65      0.65      6000\n\n"
          ]
        }
      ]
    },
    {
      "cell_type": "code",
      "execution_count": null,
      "metadata": {},
      "outputs": [],
      "source": []
    }
  ]
}