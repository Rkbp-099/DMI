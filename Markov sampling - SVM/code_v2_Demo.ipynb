{
  "nbformat": 4,
  "nbformat_minor": 0,
  "metadata": {
    "colab": {
      "name": "code v2 Demo.ipynb",
      "provenance": [],
      "collapsed_sections": []
    },
    "kernelspec": {
      "name": "python3",
      "display_name": "Python 3",
      "language": "python"
    }
  },
  "cells": [
    {
      "cell_type": "code",
      "execution_count": 1,
      "metadata": {},
      "outputs": [
        {
          "output_type": "stream",
          "name": "stdout",
          "text": [
            "  % Total    % Received % Xferd  Average Speed   Time    Time     Time  Current\n",
            "                                 Dload  Upload   Total   Spent    Left  Speed\n",
            "100  695k  100  695k    0     0   170k      0  0:00:04  0:00:04 --:--:--  170k\n"
          ]
        }
      ],
      "source": [
        "!curl -L https://archive.ics.uci.edu/ml/machine-learning-databases/letter-recognition/letter-recognition.data -o letter-recognition.csv"
      ]
    },
    {
      "cell_type": "code",
      "metadata": {
        "id": "VKMh0tpbrkck"
      },
      "source": [
        "# importing the libraries\n",
        "import numpy as np\n",
        "import matplotlib.pyplot as plt\n",
        "import pandas as pd\n",
        "from sklearn.svm import SVC\n",
        "from sklearn.model_selection import train_test_split\n",
        "from sklearn.metrics import confusion_matrix, accuracy_score\n",
        "from sklearn.preprocessing import scale\n",
        "from math import exp\n",
        "from collections import defaultdict \n",
        "from sklearn.metrics.pairwise import chi2_kernel\n",
        "# import warnings\n",
        "# warnings.filterwarnings(\"ignore\")"
      ],
      "execution_count": 2,
      "outputs": []
    },
    {
      "cell_type": "code",
      "metadata": {
        "colab": {
          "base_uri": "https://localhost:8080/"
        },
        "id": "diT-az6lrv-2",
        "outputId": "a1fc7ec2-4009-4f10-eca8-dba58705d83b"
      },
      "source": [
        "df = pd.read_csv('letter-recognition.csv')\n",
        "\n",
        "# feature names were like - 'letter ' changed it to 'letter'\n",
        "df.columns = ['letter', 'xbox', 'ybox', 'width', 'height', 'onpix', 'xbar',\n",
        "       'ybar', 'x2bar', 'y2bar', 'xybar', 'x2ybar', 'xy2bar', 'xedge',\n",
        "       'xedgey', 'yedge', 'yedgex']\n",
        "print(df.columns)"
      ],
      "execution_count": 3,
      "outputs": [
        {
          "output_type": "stream",
          "name": "stdout",
          "text": [
            "Index(['letter', 'xbox', 'ybox', 'width', 'height', 'onpix', 'xbar', 'ybar',\n       'x2bar', 'y2bar', 'xybar', 'x2ybar', 'xy2bar', 'xedge', 'xedgey',\n       'yedge', 'yedgex'],\n      dtype='object')\n"
          ]
        }
      ]
    },
    {
      "cell_type": "code",
      "metadata": {
        "colab": {
          "base_uri": "https://localhost:8080/",
          "height": 221
        },
        "id": "xXo7cJcZrz6c",
        "outputId": "0fc9f1cd-d256-4ede-ba73-dde3a1c219f4"
      },
      "source": [
        "print(f\"Number of rows = {df.shape[0]}, cols = {df.shape[1]}\")\n",
        "df.head()"
      ],
      "execution_count": 4,
      "outputs": [
        {
          "output_type": "stream",
          "name": "stdout",
          "text": [
            "Number of rows = 19999, cols = 17\n"
          ]
        },
        {
          "output_type": "execute_result",
          "data": {
            "text/plain": [
              "  letter  xbox  ybox  width  height  onpix  xbar  ybar  x2bar  y2bar  xybar  \\\n",
              "0      I     5    12      3       7      2    10     5      5      4     13   \n",
              "1      D     4    11      6       8      6    10     6      2      6     10   \n",
              "2      N     7    11      6       6      3     5     9      4      6      4   \n",
              "3      G     2     1      3       1      1     8     6      6      6      6   \n",
              "4      S     4    11      5       8      3     8     8      6      9      5   \n",
              "\n",
              "   x2ybar  xy2bar  xedge  xedgey  yedge  yedgex  \n",
              "0       3       9      2       8      4      10  \n",
              "1       3       7      3       7      3       9  \n",
              "2       4      10      6      10      2       8  \n",
              "3       5       9      1       7      5      10  \n",
              "4       6       6      0       8      9       7  "
            ],
            "text/html": "<div>\n<style scoped>\n    .dataframe tbody tr th:only-of-type {\n        vertical-align: middle;\n    }\n\n    .dataframe tbody tr th {\n        vertical-align: top;\n    }\n\n    .dataframe thead th {\n        text-align: right;\n    }\n</style>\n<table border=\"1\" class=\"dataframe\">\n  <thead>\n    <tr style=\"text-align: right;\">\n      <th></th>\n      <th>letter</th>\n      <th>xbox</th>\n      <th>ybox</th>\n      <th>width</th>\n      <th>height</th>\n      <th>onpix</th>\n      <th>xbar</th>\n      <th>ybar</th>\n      <th>x2bar</th>\n      <th>y2bar</th>\n      <th>xybar</th>\n      <th>x2ybar</th>\n      <th>xy2bar</th>\n      <th>xedge</th>\n      <th>xedgey</th>\n      <th>yedge</th>\n      <th>yedgex</th>\n    </tr>\n  </thead>\n  <tbody>\n    <tr>\n      <th>0</th>\n      <td>I</td>\n      <td>5</td>\n      <td>12</td>\n      <td>3</td>\n      <td>7</td>\n      <td>2</td>\n      <td>10</td>\n      <td>5</td>\n      <td>5</td>\n      <td>4</td>\n      <td>13</td>\n      <td>3</td>\n      <td>9</td>\n      <td>2</td>\n      <td>8</td>\n      <td>4</td>\n      <td>10</td>\n    </tr>\n    <tr>\n      <th>1</th>\n      <td>D</td>\n      <td>4</td>\n      <td>11</td>\n      <td>6</td>\n      <td>8</td>\n      <td>6</td>\n      <td>10</td>\n      <td>6</td>\n      <td>2</td>\n      <td>6</td>\n      <td>10</td>\n      <td>3</td>\n      <td>7</td>\n      <td>3</td>\n      <td>7</td>\n      <td>3</td>\n      <td>9</td>\n    </tr>\n    <tr>\n      <th>2</th>\n      <td>N</td>\n      <td>7</td>\n      <td>11</td>\n      <td>6</td>\n      <td>6</td>\n      <td>3</td>\n      <td>5</td>\n      <td>9</td>\n      <td>4</td>\n      <td>6</td>\n      <td>4</td>\n      <td>4</td>\n      <td>10</td>\n      <td>6</td>\n      <td>10</td>\n      <td>2</td>\n      <td>8</td>\n    </tr>\n    <tr>\n      <th>3</th>\n      <td>G</td>\n      <td>2</td>\n      <td>1</td>\n      <td>3</td>\n      <td>1</td>\n      <td>1</td>\n      <td>8</td>\n      <td>6</td>\n      <td>6</td>\n      <td>6</td>\n      <td>6</td>\n      <td>5</td>\n      <td>9</td>\n      <td>1</td>\n      <td>7</td>\n      <td>5</td>\n      <td>10</td>\n    </tr>\n    <tr>\n      <th>4</th>\n      <td>S</td>\n      <td>4</td>\n      <td>11</td>\n      <td>5</td>\n      <td>8</td>\n      <td>3</td>\n      <td>8</td>\n      <td>8</td>\n      <td>6</td>\n      <td>9</td>\n      <td>5</td>\n      <td>6</td>\n      <td>6</td>\n      <td>0</td>\n      <td>8</td>\n      <td>9</td>\n      <td>7</td>\n    </tr>\n  </tbody>\n</table>\n</div>"
          },
          "metadata": {},
          "execution_count": 4
        }
      ]
    },
    {
      "cell_type": "code",
      "metadata": {
        "colab": {
          "base_uri": "https://localhost:8080/"
        },
        "id": "6evqie0N1ni1",
        "outputId": "108814eb-0ced-44c4-ffd7-ba2f6acd5de3"
      },
      "source": [
        "# number of different classes\n",
        "classes = df['letter'].unique()\n",
        "print(f'Number of different labels in dataset = {len(classes)}')\n",
        "classes.sort()\n",
        "for cls in classes:\n",
        "    rows = len(df[df['letter'] == cls])\n",
        "    print(f'Number of data points in class {cls} = {rows}')"
      ],
      "execution_count": 5,
      "outputs": [
        {
          "output_type": "stream",
          "name": "stdout",
          "text": [
            "Number of different labels in dataset = 26\n",
            "Number of data points in class A = 789\n",
            "Number of data points in class B = 766\n",
            "Number of data points in class C = 736\n",
            "Number of data points in class D = 805\n",
            "Number of data points in class E = 768\n",
            "Number of data points in class F = 775\n",
            "Number of data points in class G = 773\n",
            "Number of data points in class H = 734\n",
            "Number of data points in class I = 755\n",
            "Number of data points in class J = 747\n",
            "Number of data points in class K = 739\n",
            "Number of data points in class L = 761\n",
            "Number of data points in class M = 792\n",
            "Number of data points in class N = 783\n",
            "Number of data points in class O = 753\n",
            "Number of data points in class P = 803\n",
            "Number of data points in class Q = 783\n",
            "Number of data points in class R = 758\n",
            "Number of data points in class S = 748\n",
            "Number of data points in class T = 795\n",
            "Number of data points in class U = 813\n",
            "Number of data points in class V = 764\n",
            "Number of data points in class W = 752\n",
            "Number of data points in class X = 787\n",
            "Number of data points in class Y = 786\n",
            "Number of data points in class Z = 734\n"
          ]
        }
      ]
    },
    {
      "cell_type": "code",
      "metadata": {
        "colab": {
          "base_uri": "https://localhost:8080/",
          "height": 221
        },
        "id": "_ivLhz8S4sKH",
        "outputId": "400d47d7-dc79-4836-969d-7019317f26b2"
      },
      "source": [
        "# Preparing the dataset\n",
        "\n",
        "# binary labeling of the dataset\n",
        "df1 = df.copy()\n",
        "\n",
        "# one alphabet will be treated as positive sample and others as negative sample\n",
        "alphabet = 'A'  \n",
        "df1.loc[(df1.letter != alphabet),'letter'] = -1\n",
        "df1.loc[(df1.letter == alphabet),'letter'] = 1\n",
        "\n",
        "# we will make number of positve samples = number of negative samples otherwise\n",
        "# otherwise the dataset will have huge number of negative samples which will slow\n",
        "# down the sampling process\n",
        "pos = df1[df1['letter']==1].sample(frac=1)\n",
        "# we need roughly only 1/25 of total negative samples \n",
        "neg = df1[df1['letter']==-1].sample(frac=1/25)\n",
        "\n",
        "df_final = pos.append(neg,ignore_index=True)\n",
        "print(f\"Length of final dataset {len(df_final)}\")\n",
        "df_final.head()"
      ],
      "execution_count": 6,
      "outputs": [
        {
          "output_type": "stream",
          "name": "stdout",
          "text": [
            "Length of final dataset 1557\n"
          ]
        },
        {
          "output_type": "execute_result",
          "data": {
            "text/plain": [
              "  letter  xbox  ybox  width  height  onpix  xbar  ybar  x2bar  y2bar  xybar  \\\n",
              "0      1     3     7      4       5      2     9     3      3      3      9   \n",
              "1      1     2     7      4       5      2    11     2      3      3     10   \n",
              "2      1     2     6      4       4      2    10     3      1      2      8   \n",
              "3      1     2     2      4       3      2     8     3      2      3      8   \n",
              "4      1     1     1      2       1      0     7     4      3      0      7   \n",
              "\n",
              "   x2ybar  xy2bar  xedge  xedgey  yedge  yedgex  \n",
              "0       1       8      2       6      2       7  \n",
              "1       2       9      2       6      3       8  \n",
              "2       3       9      2       6      2       8  \n",
              "3       1       8      2       6      2       7  \n",
              "4       1       8      2       7      1       8  "
            ],
            "text/html": "<div>\n<style scoped>\n    .dataframe tbody tr th:only-of-type {\n        vertical-align: middle;\n    }\n\n    .dataframe tbody tr th {\n        vertical-align: top;\n    }\n\n    .dataframe thead th {\n        text-align: right;\n    }\n</style>\n<table border=\"1\" class=\"dataframe\">\n  <thead>\n    <tr style=\"text-align: right;\">\n      <th></th>\n      <th>letter</th>\n      <th>xbox</th>\n      <th>ybox</th>\n      <th>width</th>\n      <th>height</th>\n      <th>onpix</th>\n      <th>xbar</th>\n      <th>ybar</th>\n      <th>x2bar</th>\n      <th>y2bar</th>\n      <th>xybar</th>\n      <th>x2ybar</th>\n      <th>xy2bar</th>\n      <th>xedge</th>\n      <th>xedgey</th>\n      <th>yedge</th>\n      <th>yedgex</th>\n    </tr>\n  </thead>\n  <tbody>\n    <tr>\n      <th>0</th>\n      <td>1</td>\n      <td>3</td>\n      <td>7</td>\n      <td>4</td>\n      <td>5</td>\n      <td>2</td>\n      <td>9</td>\n      <td>3</td>\n      <td>3</td>\n      <td>3</td>\n      <td>9</td>\n      <td>1</td>\n      <td>8</td>\n      <td>2</td>\n      <td>6</td>\n      <td>2</td>\n      <td>7</td>\n    </tr>\n    <tr>\n      <th>1</th>\n      <td>1</td>\n      <td>2</td>\n      <td>7</td>\n      <td>4</td>\n      <td>5</td>\n      <td>2</td>\n      <td>11</td>\n      <td>2</td>\n      <td>3</td>\n      <td>3</td>\n      <td>10</td>\n      <td>2</td>\n      <td>9</td>\n      <td>2</td>\n      <td>6</td>\n      <td>3</td>\n      <td>8</td>\n    </tr>\n    <tr>\n      <th>2</th>\n      <td>1</td>\n      <td>2</td>\n      <td>6</td>\n      <td>4</td>\n      <td>4</td>\n      <td>2</td>\n      <td>10</td>\n      <td>3</td>\n      <td>1</td>\n      <td>2</td>\n      <td>8</td>\n      <td>3</td>\n      <td>9</td>\n      <td>2</td>\n      <td>6</td>\n      <td>2</td>\n      <td>8</td>\n    </tr>\n    <tr>\n      <th>3</th>\n      <td>1</td>\n      <td>2</td>\n      <td>2</td>\n      <td>4</td>\n      <td>3</td>\n      <td>2</td>\n      <td>8</td>\n      <td>3</td>\n      <td>2</td>\n      <td>3</td>\n      <td>8</td>\n      <td>1</td>\n      <td>8</td>\n      <td>2</td>\n      <td>6</td>\n      <td>2</td>\n      <td>7</td>\n    </tr>\n    <tr>\n      <th>4</th>\n      <td>1</td>\n      <td>1</td>\n      <td>1</td>\n      <td>2</td>\n      <td>1</td>\n      <td>0</td>\n      <td>7</td>\n      <td>4</td>\n      <td>3</td>\n      <td>0</td>\n      <td>7</td>\n      <td>1</td>\n      <td>8</td>\n      <td>2</td>\n      <td>7</td>\n      <td>1</td>\n      <td>8</td>\n    </tr>\n  </tbody>\n</table>\n</div>"
          },
          "metadata": {},
          "execution_count": 6
        }
      ]
    },
    {
      "cell_type": "code",
      "metadata": {
        "colab": {
          "base_uri": "https://localhost:8080/"
        },
        "id": "-8vBWWFH7OGr",
        "outputId": "89a9f600-7159-4309-d8f9-5ee35ce414e5"
      },
      "source": [
        "# train test split\n",
        "df_final_train, df_final_test = train_test_split(df_final, test_size=0.3, random_state=42)\n",
        "\n",
        "\n",
        "# we need to generate a preliminary model first = f0 using N1(< M) datapoints\n",
        "M = 1000\n",
        "N1 = round(M * 0.75)\n",
        "\n",
        "# we will extract N1 data points randomly\n",
        "df_sample = df_final_train.sample(n=N1)\n",
        "\n",
        "df_sample_features = df_sample.loc[:, df_sample.columns != 'letter']\n",
        "df_sample_target = df_sample.loc[:, ['letter']]\n",
        "\n",
        "print(df_sample_features.head())\n",
        "print(df_sample_target.head())"
      ],
      "execution_count": 7,
      "outputs": [
        {
          "output_type": "stream",
          "name": "stdout",
          "text": [
            "      xbox  ybox  width  height  onpix  xbar  ybar  x2bar  y2bar  xybar  \\\n1168     3    10      3       8      2     0     2      3      6      1   \n457      3     6      5       4      2     8     4      3      0      7   \n839      2     8      2       6      2     7     7      0      8      7   \n434      6    11      8       8      8     8     9      8      5      6   \n931      3     4      4       2      1     5    13      3      6     12   \n\n      x2ybar  xy2bar  xedge  xedgey  yedge  yedgex  \n1168       0       8      0       8      0       8  \n457        1       8      2       7      1       8  \n839        6       8      0       8      3       8  \n434        6       8      3       7      8       4  \n931        9       3      1      10      1       5  \n     letter\n1168     -1\n457       1\n839      -1\n434       1\n931      -1\n"
          ]
        }
      ]
    },
    {
      "cell_type": "code",
      "metadata": {
        "colab": {
          "base_uri": "https://localhost:8080/"
        },
        "id": "077hXKdduga5",
        "outputId": "24cd3f03-98c3-4be4-fce4-2c531d4a7d34"
      },
      "source": [
        "# Markov Sampling \n",
        "\n",
        "# Step1 \n",
        "# generating priliminary model f0\n",
        "\n",
        "# scale? is it required\n",
        "df_sample_features = scale(df_sample_features)\n",
        "df_sample_target = df_sample_target.astype('int')\n",
        "\n",
        "f0 = SVC(kernel = 'linear')\n",
        "f0.fit(df_sample_features, df_sample_target.values.ravel())\n"
      ],
      "execution_count": 8,
      "outputs": [
        {
          "output_type": "execute_result",
          "data": {
            "text/plain": [
              "SVC(kernel='linear')"
            ]
          },
          "metadata": {},
          "execution_count": 8
        }
      ]
    },
    {
      "cell_type": "code",
      "metadata": {
        "colab": {
          "base_uri": "https://localhost:8080/"
        },
        "id": "wT5ZQSqqsPc3",
        "outputId": "7bac79f0-eed2-4db4-fa33-b9ab818d76da"
      },
      "source": [
        "# Step 2\n",
        "# draw one sample randomly\n",
        "\n",
        "m_pos, m_neg = 0, 0\n",
        "zt = df_final_train.sample(n=1)\n",
        "print(zt)\n",
        "if M%2 == 0:\n",
        "  label = zt.iloc[0]['letter']\n",
        "  print(\"\")\n",
        "  if label == 1:\n",
        "    m_pos += 1\n",
        "  else:\n",
        "    m_neg += 1\n"
      ],
      "execution_count": 9,
      "outputs": [
        {
          "output_type": "stream",
          "name": "stdout",
          "text": [
            "   letter  xbox  ybox  width  height  onpix  xbar  ybar  x2bar  y2bar  xybar  \\\n64      1     1     0      2       0      0     7     4      2      0      7   \n\n    x2ybar  xy2bar  xedge  xedgey  yedge  yedgex  \n64       2       8      2       7      1       8  \n\n"
          ]
        }
      ]
    },
    {
      "cell_type": "code",
      "metadata": {
        "id": "AiUoHEuXsQgp"
      },
      "source": [
        "w_norm = np.linalg.norm(f0.coef_)  \n",
        "def predict(z):\n",
        "  x = zt.loc[:, zt.columns != 'letter']\n",
        "  y = zt.loc[:, zt.columns == 'letter']\n",
        "  # doubtful\n",
        "  fx = f0.decision_function(x)/w_norm\n",
        "  return fx[0]"
      ],
      "execution_count": 10,
      "outputs": []
    },
    {
      "cell_type": "code",
      "metadata": {
        "id": "AL_iCR7dsSbA"
      },
      "source": [
        "# returns the loss value calculated using model f0\n",
        "def loss(z):\n",
        "  y = z.iloc[0]['letter']\n",
        "  # doubtful\n",
        "  fx = predict(z)\n",
        "\n",
        "  if fx*y > 1:\n",
        "    return 0\n",
        "  else:\n",
        "    return 1-fx*y"
      ],
      "execution_count": 11,
      "outputs": []
    },
    {
      "cell_type": "code",
      "metadata": {
        "id": "zGu_Nxm5sU0T"
      },
      "source": [
        "def calculate_P(zs,zst):\n",
        "  P = exp(-loss(zs))/exp(-loss(zt))\n",
        "  return P"
      ],
      "execution_count": 12,
      "outputs": []
    },
    {
      "cell_type": "code",
      "metadata": {
        "id": "Xl8Pdg8zsW4k"
      },
      "source": [
        "def acceptance_prob(zs,zt):\n",
        "  ys = zs.iloc[0]['letter']\n",
        "  yt = zt.iloc[0]['letter']\n",
        "\n",
        "  fs = predict(zs)\n",
        "  ft = predict(zt)\n",
        "\n",
        "  return exp(-fs*ys)/exp(-ft*yt)"
      ],
      "execution_count": 13,
      "outputs": []
    },
    {
      "cell_type": "code",
      "metadata": {
        "colab": {
          "base_uri": "https://localhost:8080/"
        },
        "id": "Flgm5tOtsZGM",
        "outputId": "fc749751-0411-4081-9247-1772b07e755a",
        "tags": [
          "outputPrepend"
        ]
      },
      "source": [
        "# Step 3\n",
        "# should its type be pandas.dataframe?\n",
        "sampled_data = []\n",
        "# keep count of how many times a sample is rejected\n",
        "rejected = defaultdict(int)\n",
        "\n",
        "# all variable names are as given in paper\n",
        "# constants used in algorithm, see section 4A point 1 in paper\n",
        "K = 5\n",
        "Q = 1.2\n",
        "while m_pos < M//2 or m_neg < M//2:\n",
        "  # draw one sample randomly = z_star(zs)\n",
        "  zs = df_final_train.sample(n=1)\n",
        "  print(\"considering \",zs)\n",
        "  P = calculate_P(zs,zt)\n",
        "  \n",
        "  # yt corresponds to Y of zt\n",
        "  yt = zt.iloc[0]['letter']\n",
        "  ys = zs.iloc[0]['letter']\n",
        "\n",
        "  # alpha is the acceptance probability of zs, given in step 5\n",
        "  alpha = P\n",
        "  # need to convert it to tuple so that it becomes hashable\n",
        "  tpl = tuple(zs.to_records(index=False)[0])\n",
        "\n",
        "  if P==1 and yt==-1 and ys==-1:\n",
        "    alpha = acceptance_prob(zs,zt)  # P'\n",
        "  elif P==1 and yt==1 and ys==1:    \n",
        "    alpha = acceptance_prob(zs,zt)  # P'\n",
        "  elif (P==1 and yt*ys==-1) or P<1 :\n",
        "    alpha = P                       # P\n",
        "  elif rejected[tpl]>K:\n",
        "    alpha = QP                      # P''\n",
        "                         \n",
        "  if alpha>1:\n",
        "    alpha=1\n",
        "\n",
        "  print(f\"alpha {alpha}\")\n",
        "  if np.random.random() < alpha:\n",
        "    sampled_data.append(zs)\n",
        "  else:\n",
        "    rejected[tpl]+=1\n",
        "\n",
        "  if yt == 1:\n",
        "    m_pos += 1 \n",
        "  else:\n",
        "    m_neg += 1\n",
        "  \n",
        "  # for next iteration \n",
        "  zt = zs\n",
        "  print(f\"Positive = {m_pos} Negative = {m_neg}\")"
      ],
      "execution_count": 14,
      "outputs": [
        {
          "output_type": "stream",
          "name": "stdout",
          "text": [
            "     0     7     3      2      0      7   \n",
            "\n",
            "     x2ybar  xy2bar  xedge  xedgey  yedge  yedgex  \n",
            "253       2       8      2       6      1       8  \n",
            "alpha 1.0\n",
            "Positive = 501 Negative = 471\n",
            "considering       letter  xbox  ybox  width  height  onpix  xbar  ybar  x2bar  y2bar  \\\n",
            "1012     -1     4     7      6       5      5     7     7      6      3   \n",
            "\n",
            "      xybar  x2ybar  xy2bar  xedge  xedgey  yedge  yedgex  \n",
            "1012      7       6      10      4       8      7       7  \n",
            "alpha 1\n",
            "Positive = 502 Negative = 471\n",
            "considering      letter  xbox  ybox  width  height  onpix  xbar  ybar  x2bar  y2bar  xybar  \\\n",
            "138      1     6    11      8       9      8     7     7      8      4      8   \n",
            "\n",
            "     x2ybar  xy2bar  xedge  xedgey  yedge  yedgex  \n",
            "138       5       8      4       8     10       1  \n",
            "alpha 0.0004952774059774304\n",
            "Positive = 502 Negative = 472\n",
            "considering      letter  xbox  ybox  width  height  onpix  xbar  ybar  x2bar  y2bar  xybar  \\\n",
            "698      1     4    10      5       7      4     9     4      3      1      8   \n",
            "\n",
            "     x2ybar  xy2bar  xedge  xedgey  yedge  yedgex  \n",
            "698       2       8      2       7      2       8  \n",
            "alpha 1.0\n",
            "Positive = 503 Negative = 472\n",
            "considering      letter  xbox  ybox  width  height  onpix  xbar  ybar  x2bar  y2bar  xybar  \\\n",
            "498      1     3    10      5       8      3    13     4      5      3     12   \n",
            "\n",
            "     x2ybar  xy2bar  xedge  xedgey  yedge  yedgex  \n",
            "498       0       8      2       6      3       9  \n",
            "alpha 1.0\n",
            "Positive = 504 Negative = 472\n",
            "considering      letter  xbox  ybox  width  height  onpix  xbar  ybar  x2bar  y2bar  xybar  \\\n",
            "556      1     1     0      2       0      0     7     3      2      0      7   \n",
            "\n",
            "     x2ybar  xy2bar  xedge  xedgey  yedge  yedgex  \n",
            "556       2       8      2       6      1       8  \n",
            "alpha 1.0\n",
            "Positive = 505 Negative = 472\n",
            "considering       letter  xbox  ybox  width  height  onpix  xbar  ybar  x2bar  y2bar  \\\n",
            "1289     -1     6     9      5       4      3     8     6      5      5   \n",
            "\n",
            "      xybar  x2ybar  xy2bar  xedge  xedgey  yedge  yedgex  \n",
            "1289      6       6       7      4       7      3       6  \n",
            "alpha 1\n",
            "Positive = 506 Negative = 472\n",
            "considering      letter  xbox  ybox  width  height  onpix  xbar  ybar  x2bar  y2bar  xybar  \\\n",
            "956     -1     7    12      6       6      4     8     8      3      4      9   \n",
            "\n",
            "     x2ybar  xy2bar  xedge  xedgey  yedge  yedgex  \n",
            "956       6       7      6       9      5       9  \n",
            "alpha 1.0\n",
            "Positive = 506 Negative = 473\n",
            "considering       letter  xbox  ybox  width  height  onpix  xbar  ybar  x2bar  y2bar  \\\n",
            "1448     -1     5     8      6       7      6     6     7      5      6   \n",
            "\n",
            "      xybar  x2ybar  xy2bar  xedge  xedgey  yedge  yedgex  \n",
            "1448      7       5       9      5       4      8       4  \n",
            "alpha 1.0\n",
            "Positive = 506 Negative = 474\n",
            "considering      letter  xbox  ybox  width  height  onpix  xbar  ybar  x2bar  y2bar  xybar  \\\n",
            "268      1     2     7      4       5      3    11     3      2      2      9   \n",
            "\n",
            "     x2ybar  xy2bar  xedge  xedgey  yedge  yedgex  \n",
            "268       2       9      2       6      3       8  \n",
            "alpha 0.0004400654521840379\n",
            "Positive = 506 Negative = 475\n",
            "considering       letter  xbox  ybox  width  height  onpix  xbar  ybar  x2bar  y2bar  \\\n",
            "1329     -1     4     7      5       5      3     9     8      3      5   \n",
            "\n",
            "      xybar  x2ybar  xy2bar  xedge  xedgey  yedge  yedgex  \n",
            "1329     12       4       4      2       9      3       9  \n",
            "alpha 1\n",
            "Positive = 507 Negative = 475\n",
            "considering     letter  xbox  ybox  width  height  onpix  xbar  ybar  x2bar  y2bar  xybar  \\\n",
            "62      1     2     4      3       3      1    11     3      3      2     11   \n",
            "\n",
            "    x2ybar  xy2bar  xedge  xedgey  yedge  yedgex  \n",
            "62       2       9      1       6      2       9  \n",
            "alpha 3.200269900298345e-05\n",
            "Positive = 507 Negative = 476\n",
            "considering     letter  xbox  ybox  width  height  onpix  xbar  ybar  x2bar  y2bar  xybar  \\\n",
            "34      1     5    10      7       7      4     9     5      3      0      8   \n",
            "\n",
            "    x2ybar  xy2bar  xedge  xedgey  yedge  yedgex  \n",
            "34       1       8      2       7      1       8  \n",
            "alpha 1.0\n",
            "Positive = 508 Negative = 476\n",
            "considering       letter  xbox  ybox  width  height  onpix  xbar  ybar  x2bar  y2bar  \\\n",
            "1334     -1     2     5      3       7      6     8     7      4      1   \n",
            "\n",
            "      xybar  x2ybar  xy2bar  xedge  xedgey  yedge  yedgex  \n",
            "1334      7       6       7      5       8      4       8  \n",
            "alpha 1\n",
            "Positive = 509 Negative = 476\n",
            "considering      letter  xbox  ybox  width  height  onpix  xbar  ybar  x2bar  y2bar  xybar  \\\n",
            "887     -1     2     3      3       1      1     8     7      3      8      6   \n",
            "\n",
            "     x2ybar  xy2bar  xedge  xedgey  yedge  yedgex  \n",
            "887       6       8      2       8      5       8  \n",
            "alpha 1.0\n",
            "Positive = 509 Negative = 477\n",
            "considering      letter  xbox  ybox  width  height  onpix  xbar  ybar  x2bar  y2bar  xybar  \\\n",
            "857     -1     3     4      4       5      3     8     8      4      5      7   \n",
            "\n",
            "     x2ybar  xy2bar  xedge  xedgey  yedge  yedgex  \n",
            "857       6       8      3       8      8       9  \n",
            "alpha 1.0\n",
            "Positive = 509 Negative = 478\n",
            "considering      letter  xbox  ybox  width  height  onpix  xbar  ybar  x2bar  y2bar  xybar  \\\n",
            "267      1     3     7      5       5      3     8     2      2      2      7   \n",
            "\n",
            "     x2ybar  xy2bar  xedge  xedgey  yedge  yedgex  \n",
            "267       2       7      2       6      3       7  \n",
            "alpha 8.543628710777092e-05\n",
            "Positive = 509 Negative = 479\n",
            "considering      letter  xbox  ybox  width  height  onpix  xbar  ybar  x2bar  y2bar  xybar  \\\n",
            "738      1     3     5      5       8      2     8     5      3      1      7   \n",
            "\n",
            "     x2ybar  xy2bar  xedge  xedgey  yedge  yedgex  \n",
            "738       0       8      2       7      2       8  \n",
            "alpha 1.0\n",
            "Positive = 510 Negative = 479\n",
            "considering      letter  xbox  ybox  width  height  onpix  xbar  ybar  x2bar  y2bar  xybar  \\\n",
            "815     -1     4     6      6       8      8     9     9      5      0      6   \n",
            "\n",
            "     x2ybar  xy2bar  xedge  xedgey  yedge  yedgex  \n",
            "815       7      10      6      12      5      10  \n",
            "alpha 1\n",
            "Positive = 511 Negative = 479\n",
            "considering      letter  xbox  ybox  width  height  onpix  xbar  ybar  x2bar  y2bar  xybar  \\\n",
            "292      1     3     8      5       6      4    11     2      2      2      9   \n",
            "\n",
            "     x2ybar  xy2bar  xedge  xedgey  yedge  yedgex  \n",
            "292       2       9      3       6      3       8  \n",
            "alpha 0.0001926862195459286\n",
            "Positive = 511 Negative = 480\n",
            "considering     letter  xbox  ybox  width  height  onpix  xbar  ybar  x2bar  y2bar  xybar  \\\n",
            "42      1     3     4      5       6      2     5     4      3      2      5   \n",
            "\n",
            "    x2ybar  xy2bar  xedge  xedgey  yedge  yedgex  \n",
            "42       1       7      3       7      2       7  \n",
            "alpha 1.0\n",
            "Positive = 512 Negative = 480\n",
            "considering     letter  xbox  ybox  width  height  onpix  xbar  ybar  x2bar  y2bar  xybar  \\\n",
            "14      1     3     7      5       5      3    11     3      2      2      9   \n",
            "\n",
            "    x2ybar  xy2bar  xedge  xedgey  yedge  yedgex  \n",
            "14       2       9      3       5      2       8  \n",
            "alpha 1.0\n",
            "Positive = 513 Negative = 480\n",
            "considering      letter  xbox  ybox  width  height  onpix  xbar  ybar  x2bar  y2bar  xybar  \\\n",
            "301      1     2     1      3       1      1     7     4      2      0      7   \n",
            "\n",
            "     x2ybar  xy2bar  xedge  xedgey  yedge  yedgex  \n",
            "301       1       8      3       6      1       8  \n",
            "alpha 1.0\n",
            "Positive = 514 Negative = 480\n",
            "considering      letter  xbox  ybox  width  height  onpix  xbar  ybar  x2bar  y2bar  xybar  \\\n",
            "626      1     3     9      5       7      4    12     3      2      2     10   \n",
            "\n",
            "     x2ybar  xy2bar  xedge  xedgey  yedge  yedgex  \n",
            "626       2       9      2       6      3       7  \n",
            "alpha 1.0\n",
            "Positive = 515 Negative = 480\n",
            "considering       letter  xbox  ybox  width  height  onpix  xbar  ybar  x2bar  y2bar  \\\n",
            "1520     -1     3     7      3       5      2     3     8      6     10   \n",
            "\n",
            "      xybar  x2ybar  xy2bar  xedge  xedgey  yedge  yedgex  \n",
            "1520      7       6      14      0       8      7       8  \n",
            "alpha 1\n",
            "Positive = 516 Negative = 480\n",
            "considering       letter  xbox  ybox  width  height  onpix  xbar  ybar  x2bar  y2bar  \\\n",
            "1392     -1     3     7      4       5      1     0     0      6      6   \n",
            "\n",
            "      xybar  x2ybar  xy2bar  xedge  xedgey  yedge  yedgex  \n",
            "1392      0       1       5      0       8      0       8  \n",
            "alpha 1.0\n",
            "Positive = 516 Negative = 481\n",
            "considering       letter  xbox  ybox  width  height  onpix  xbar  ybar  x2bar  y2bar  \\\n",
            "1278     -1    11    12     11       7      6     6     9      5      4   \n",
            "\n",
            "      xybar  x2ybar  xy2bar  xedge  xedgey  yedge  yedgex  \n",
            "1278      4       4      11     11      14      3       8  \n",
            "alpha 1.0\n",
            "Positive = 516 Negative = 482\n",
            "considering      letter  xbox  ybox  width  height  onpix  xbar  ybar  x2bar  y2bar  xybar  \\\n",
            "766      1     5     9      9       7      6     5     5      2      4      3   \n",
            "\n",
            "     x2ybar  xy2bar  xedge  xedgey  yedge  yedgex  \n",
            "766       2       7      6       7      7       2  \n",
            "alpha 4.083329757295978e-05\n",
            "Positive = 516 Negative = 483\n",
            "considering      letter  xbox  ybox  width  height  onpix  xbar  ybar  x2bar  y2bar  xybar  \\\n",
            "286      1     5    10      7       8      5     8     4      3      0      7   \n",
            "\n",
            "     x2ybar  xy2bar  xedge  xedgey  yedge  yedgex  \n",
            "286       1       8      2       7      4       8  \n",
            "alpha 1.0\n",
            "Positive = 517 Negative = 483\n",
            "considering       letter  xbox  ybox  width  height  onpix  xbar  ybar  x2bar  y2bar  \\\n",
            "1168     -1     3    10      3       8      2     0     2      3      6   \n",
            "\n",
            "      xybar  x2ybar  xy2bar  xedge  xedgey  yedge  yedgex  \n",
            "1168      1       0       8      0       8      0       8  \n",
            "alpha 1\n",
            "Positive = 518 Negative = 483\n",
            "considering      letter  xbox  ybox  width  height  onpix  xbar  ybar  x2bar  y2bar  xybar  \\\n",
            "224      1     6    11     11       8      8     7     5      2      5      5   \n",
            "\n",
            "     x2ybar  xy2bar  xedge  xedgey  yedge  yedgex  \n",
            "224       1       6      6       8      6       6  \n",
            "alpha 0.00017496683126255687\n",
            "Positive = 518 Negative = 484\n",
            "considering      letter  xbox  ybox  width  height  onpix  xbar  ybar  x2bar  y2bar  xybar  \\\n",
            "910     -1     4     4      6       3      4     8     6      2      4      9   \n",
            "\n",
            "     x2ybar  xy2bar  xedge  xedgey  yedge  yedgex  \n",
            "910       6       8      7       5      2       8  \n",
            "alpha 1\n",
            "Positive = 519 Negative = 484\n",
            "considering      letter  xbox  ybox  width  height  onpix  xbar  ybar  x2bar  y2bar  xybar  \\\n",
            "355      1     4     9      6       7      3    11     2      4      3     10   \n",
            "\n",
            "     x2ybar  xy2bar  xedge  xedgey  yedge  yedgex  \n",
            "355       2       9      3       7      3       8  \n",
            "alpha 0.0002981301036205497\n",
            "Positive = 519 Negative = 485\n",
            "considering      letter  xbox  ybox  width  height  onpix  xbar  ybar  x2bar  y2bar  xybar  \\\n",
            "279      1     4    11      8       8      6     9     5      1      4      7   \n",
            "\n",
            "     x2ybar  xy2bar  xedge  xedgey  yedge  yedgex  \n",
            "279       2       6      3       8      6       6  \n",
            "alpha 1.0\n",
            "Positive = 520 Negative = 485\n",
            "considering      letter  xbox  ybox  width  height  onpix  xbar  ybar  x2bar  y2bar  xybar  \\\n",
            "832     -1     3     3      4       2      2     7     7      6      7      7   \n",
            "\n",
            "     x2ybar  xy2bar  xedge  xedgey  yedge  yedgex  \n",
            "832       6       5      2       8      3       7  \n",
            "alpha 1\n",
            "Positive = 521 Negative = 485\n",
            "considering       letter  xbox  ybox  width  height  onpix  xbar  ybar  x2bar  y2bar  \\\n",
            "1332     -1     3     5      3       4      3     7     7      5      5   \n",
            "\n",
            "      xybar  x2ybar  xy2bar  xedge  xedgey  yedge  yedgex  \n",
            "1332      6       6       6      2       8      6      10  \n",
            "alpha 1.0\n",
            "Positive = 521 Negative = 486\n",
            "considering       letter  xbox  ybox  width  height  onpix  xbar  ybar  x2bar  y2bar  \\\n",
            "1223     -1     4     9      6       7      5     9    10      2      2   \n",
            "\n",
            "      xybar  x2ybar  xy2bar  xedge  xedgey  yedge  yedgex  \n",
            "1223      5       9       7      8      12      1       7  \n",
            "alpha 1.0\n",
            "Positive = 521 Negative = 487\n",
            "considering     letter  xbox  ybox  width  height  onpix  xbar  ybar  x2bar  y2bar  xybar  \\\n",
            "92      1     5    10      8       8      5    11     3      1      2      8   \n",
            "\n",
            "    x2ybar  xy2bar  xedge  xedgey  yedge  yedgex  \n",
            "92       2       9      4       6      3       8  \n",
            "alpha 0.00035291810814789626\n",
            "Positive = 521 Negative = 488\n",
            "considering      letter  xbox  ybox  width  height  onpix  xbar  ybar  x2bar  y2bar  xybar  \\\n",
            "910     -1     4     4      6       3      4     8     6      2      4      9   \n",
            "\n",
            "     x2ybar  xy2bar  xedge  xedgey  yedge  yedgex  \n",
            "910       6       8      7       5      2       8  \n",
            "alpha 1\n",
            "Positive = 522 Negative = 488\n",
            "considering       letter  xbox  ybox  width  height  onpix  xbar  ybar  x2bar  y2bar  \\\n",
            "1158     -1     8    11     11       8      6     8     6      2      8   \n",
            "\n",
            "      xybar  x2ybar  xy2bar  xedge  xedgey  yedge  yedgex  \n",
            "1158     11       4       8      4       8      5      10  \n",
            "alpha 1.0\n",
            "Positive = 522 Negative = 489\n",
            "considering       letter  xbox  ybox  width  height  onpix  xbar  ybar  x2bar  y2bar  \\\n",
            "1254     -1     2     7      3       5      1     9     6      3      7   \n",
            "\n",
            "      xybar  x2ybar  xy2bar  xedge  xedgey  yedge  yedgex  \n",
            "1254     12       4       9      0       7      2       6  \n",
            "alpha 1.0\n",
            "Positive = 522 Negative = 490\n",
            "considering      letter  xbox  ybox  width  height  onpix  xbar  ybar  x2bar  y2bar  xybar  \\\n",
            "388      1     3     7      5       5      3    11     2      2      2      9   \n",
            "\n",
            "     x2ybar  xy2bar  xedge  xedgey  yedge  yedgex  \n",
            "388       2       9      3       6      3       9  \n",
            "alpha 0.0001749524801460034\n",
            "Positive = 522 Negative = 491\n",
            "considering       letter  xbox  ybox  width  height  onpix  xbar  ybar  x2bar  y2bar  \\\n",
            "1409     -1     2     3      3       2      1     6     4      2      8   \n",
            "\n",
            "      xybar  x2ybar  xy2bar  xedge  xedgey  yedge  yedgex  \n",
            "1409      8       2      10      0       7      2       8  \n",
            "alpha 1\n",
            "Positive = 523 Negative = 491\n",
            "considering       letter  xbox  ybox  width  height  onpix  xbar  ybar  x2bar  y2bar  \\\n",
            "1363     -1     3     1      5       3      3     6     7      4      8   \n",
            "\n",
            "      xybar  x2ybar  xy2bar  xedge  xedgey  yedge  yedgex  \n",
            "1363      7       6      10      6       8      4       9  \n",
            "alpha 1.0\n",
            "Positive = 523 Negative = 492\n",
            "considering      letter  xbox  ybox  width  height  onpix  xbar  ybar  x2bar  y2bar  xybar  \\\n",
            "706      1     2     1      4       3      2     8     1      2      2      8   \n",
            "\n",
            "     x2ybar  xy2bar  xedge  xedgey  yedge  yedgex  \n",
            "706       2       8      3       6      3       7  \n",
            "alpha 6.161841320863505e-06\n",
            "Positive = 523 Negative = 493\n",
            "considering      letter  xbox  ybox  width  height  onpix  xbar  ybar  x2bar  y2bar  xybar  \\\n",
            "731      1     3     4      5       3      2    10     2      2      2      9   \n",
            "\n",
            "     x2ybar  xy2bar  xedge  xedgey  yedge  yedgex  \n",
            "731       2       9      2       6      2       8  \n",
            "alpha 1.0\n",
            "Positive = 524 Negative = 493\n",
            "considering      letter  xbox  ybox  width  height  onpix  xbar  ybar  x2bar  y2bar  xybar  \\\n",
            "847     -1     1     4      2       3      1     7     8      0      7     13   \n",
            "\n",
            "     x2ybar  xy2bar  xedge  xedgey  yedge  yedgex  \n",
            "847       6       8      0       8      1       7  \n",
            "alpha 1\n",
            "Positive = 525 Negative = 493\n",
            "considering      letter  xbox  ybox  width  height  onpix  xbar  ybar  x2bar  y2bar  xybar  \\\n",
            "810     -1     7    15      7       8      6    10     6      4      5     10   \n",
            "\n",
            "     x2ybar  xy2bar  xedge  xedgey  yedge  yedgex  \n",
            "810       4       7      7       6      8       9  \n",
            "alpha 1.0\n",
            "Positive = 525 Negative = 494\n",
            "considering     letter  xbox  ybox  width  height  onpix  xbar  ybar  x2bar  y2bar  xybar  \\\n",
            "87      1     3     2      5       3      2     8     2      2      2      7   \n",
            "\n",
            "    x2ybar  xy2bar  xedge  xedgey  yedge  yedgex  \n",
            "87       2       8      2       7      2       7  \n",
            "alpha 0.00025579441325992357\n",
            "Positive = 525 Negative = 495\n",
            "considering      letter  xbox  ybox  width  height  onpix  xbar  ybar  x2bar  y2bar  xybar  \\\n",
            "317      1     4     6      6       5      5     8     8      3      5      7   \n",
            "\n",
            "     x2ybar  xy2bar  xedge  xedgey  yedge  yedgex  \n",
            "317       8       7      5      10      4       6  \n",
            "alpha 1.0\n",
            "Positive = 526 Negative = 495\n",
            "considering       letter  xbox  ybox  width  height  onpix  xbar  ybar  x2bar  y2bar  \\\n",
            "1488     -1     1     2      2       2      1     8     8      5      2   \n",
            "\n",
            "      xybar  x2ybar  xy2bar  xedge  xedgey  yedge  yedgex  \n",
            "1488      8       7       9      2       9      3       9  \n",
            "alpha 1\n",
            "Positive = 527 Negative = 495\n",
            "considering      letter  xbox  ybox  width  height  onpix  xbar  ybar  x2bar  y2bar  xybar  \\\n",
            "156      1     2     7      4       5      2     9     3      2      2      8   \n",
            "\n",
            "     x2ybar  xy2bar  xedge  xedgey  yedge  yedgex  \n",
            "156       1       8      2       6      3       8  \n",
            "alpha 0.00014463077576206066\n",
            "Positive = 527 Negative = 496\n",
            "considering     letter  xbox  ybox  width  height  onpix  xbar  ybar  x2bar  y2bar  xybar  \\\n",
            "38      1     3     6      5       4      3     8     5      3      0      7   \n",
            "\n",
            "    x2ybar  xy2bar  xedge  xedgey  yedge  yedgex  \n",
            "38       1       8      2       6      1       8  \n",
            "alpha 1.0\n",
            "Positive = 528 Negative = 496\n",
            "considering       letter  xbox  ybox  width  height  onpix  xbar  ybar  x2bar  y2bar  \\\n",
            "1377     -1     3     7      3       5      3     3     6      5      9   \n",
            "\n",
            "      xybar  x2ybar  xy2bar  xedge  xedgey  yedge  yedgex  \n",
            "1377      7       7      13      0       8      7       9  \n",
            "alpha 1\n",
            "Positive = 529 Negative = 496\n",
            "considering      letter  xbox  ybox  width  height  onpix  xbar  ybar  x2bar  y2bar  xybar  \\\n",
            "960     -1     4     7      7       5      6     7     9      1      5     10   \n",
            "\n",
            "     x2ybar  xy2bar  xedge  xedgey  yedge  yedgex  \n",
            "960       6       6      5      10      4       5  \n",
            "alpha 1.0\n",
            "Positive = 529 Negative = 497\n",
            "considering      letter  xbox  ybox  width  height  onpix  xbar  ybar  x2bar  y2bar  xybar  \\\n",
            "472      1     1     1      2       2      1     7     3      2      1      6   \n",
            "\n",
            "     x2ybar  xy2bar  xedge  xedgey  yedge  yedgex  \n",
            "472       2       8      1       6      1       7  \n",
            "alpha 0.00013756520258310253\n",
            "Positive = 529 Negative = 498\n",
            "considering      letter  xbox  ybox  width  height  onpix  xbar  ybar  x2bar  y2bar  xybar  \\\n",
            "294      1     4     9      6       6      4    10     2      1      2      8   \n",
            "\n",
            "     x2ybar  xy2bar  xedge  xedgey  yedge  yedgex  \n",
            "294       3       9      5       5      3       7  \n",
            "alpha 1.0\n",
            "Positive = 530 Negative = 498\n",
            "considering      letter  xbox  ybox  width  height  onpix  xbar  ybar  x2bar  y2bar  xybar  \\\n",
            "962     -1     3     8      4       6      4     6     7      6      8      7   \n",
            "\n",
            "     x2ybar  xy2bar  xedge  xedgey  yedge  yedgex  \n",
            "962       6      10      3       8      6       8  \n",
            "alpha 1\n",
            "Positive = 531 Negative = 498\n",
            "considering      letter  xbox  ybox  width  height  onpix  xbar  ybar  x2bar  y2bar  xybar  \\\n",
            "249      1     1     3      2       1      1     9     3      2      1      8   \n",
            "\n",
            "     x2ybar  xy2bar  xedge  xedgey  yedge  yedgex  \n",
            "249       2       9      1       6      0       8  \n",
            "alpha 1.3443133251659796e-05\n",
            "Positive = 531 Negative = 499\n",
            "considering      letter  xbox  ybox  width  height  onpix  xbar  ybar  x2bar  y2bar  xybar  \\\n",
            "343      1     4     9      3       4      2    13     3      4      1     10   \n",
            "\n",
            "     x2ybar  xy2bar  xedge  xedgey  yedge  yedgex  \n",
            "343       3      10      3       5      3      10  \n",
            "alpha 1.0\n",
            "Positive = 532 Negative = 499\n",
            "considering       letter  xbox  ybox  width  height  onpix  xbar  ybar  x2bar  y2bar  \\\n",
            "1369     -1     3     1      4       1      1     7     9      5      6   \n",
            "\n",
            "      xybar  x2ybar  xy2bar  xedge  xedgey  yedge  yedgex  \n",
            "1369      7      10       9      3      10      1       8  \n",
            "alpha 1\n",
            "Positive = 533 Negative = 499\n",
            "considering       letter  xbox  ybox  width  height  onpix  xbar  ybar  x2bar  y2bar  \\\n",
            "1257     -1     0     0      0       0      0     7     7      4      4   \n",
            "\n",
            "      xybar  x2ybar  xy2bar  xedge  xedgey  yedge  yedgex  \n",
            "1257      7       6       8      0       8      0       8  \n",
            "alpha 1.0\n",
            "Positive = 533 Negative = 500\n"
          ]
        }
      ]
    },
    {
      "cell_type": "code",
      "metadata": {
        "colab": {
          "base_uri": "https://localhost:8080/"
        },
        "id": "YN6ngNgyBXpO",
        "outputId": "5f7cbe30-2086-4962-b8fd-bc5f8dfc5620"
      },
      "source": [
        "# Markov Sampling Done\n",
        "# sampled data points are stored in sampled_data\n",
        "print(len(sampled_data))\n",
        "dataset = pd.concat(sampled_data)\n",
        "print(dataset.head())"
      ],
      "execution_count": 15,
      "outputs": [
        {
          "output_type": "stream",
          "name": "stdout",
          "text": [
            "787\n",
            "     letter  xbox  ybox  width  height  onpix  xbar  ybar  x2bar  y2bar  \\\n",
            "1366     -1     4     4      6       6      7     9     4      5      3   \n",
            "1504     -1     5    10      7       7      5     7     8      8      5   \n",
            "191       1     3     6      5       4      2    11     3      2      2   \n",
            "866      -1     4     9      4       7      1     0     1      6      6   \n",
            "1541     -1     6    10      7       8      4     4     8      6      8   \n",
            "\n",
            "      xybar  x2ybar  xy2bar  xedge  xedgey  yedge  yedgex  \n",
            "1366      7       7       8      5       9      4       8  \n",
            "1504      7       7       9      3       7      4       7  \n",
            "191       9       2       9      2       6      3       9  \n",
            "866       0       0       6      0       8      0       8  \n",
            "1541     10       9       9      3       9      2       5  \n"
          ]
        }
      ]
    },
    {
      "cell_type": "code",
      "metadata": {
        "colab": {
          "base_uri": "https://localhost:8080/"
        },
        "id": "nIkfCY8kB-WX",
        "outputId": "c3ecf078-646d-43c5-9f69-8d65e80749ab"
      },
      "source": [
        "print(\"In the final dataset on which SVM is being trained \")\n",
        "\n",
        "print(f\"Number of positive samples {len(dataset[dataset['letter']==1])}\")\n",
        "print(f\"Number of negative samples {len(dataset[dataset['letter']==-1])}\")\n",
        "features = dataset.loc[:, dataset.columns != 'letter']\n",
        "target = dataset.loc[:, ['letter']]\n",
        "\n",
        "print(features.head())\n",
        "print(target.head())"
      ],
      "execution_count": 16,
      "outputs": [
        {
          "output_type": "stream",
          "name": "stdout",
          "text": [
            "In the final dataset on which SVM is being trained \n",
            "Number of positive samples 286\n",
            "Number of negative samples 501\n",
            "      xbox  ybox  width  height  onpix  xbar  ybar  x2bar  y2bar  xybar  \\\n",
            "1366     4     4      6       6      7     9     4      5      3      7   \n",
            "1504     5    10      7       7      5     7     8      8      5      7   \n",
            "191      3     6      5       4      2    11     3      2      2      9   \n",
            "866      4     9      4       7      1     0     1      6      6      0   \n",
            "1541     6    10      7       8      4     4     8      6      8     10   \n",
            "\n",
            "      x2ybar  xy2bar  xedge  xedgey  yedge  yedgex  \n",
            "1366       7       8      5       9      4       8  \n",
            "1504       7       9      3       7      4       7  \n",
            "191        2       9      2       6      3       9  \n",
            "866        0       6      0       8      0       8  \n",
            "1541       9       9      3       9      2       5  \n",
            "     letter\n",
            "1366     -1\n",
            "1504     -1\n",
            "191       1\n",
            "866      -1\n",
            "1541     -1\n"
          ]
        }
      ]
    },
    {
      "cell_type": "code",
      "metadata": {
        "id": "WGjcaumGDWXC"
      },
      "source": [
        "def hellinger(X1, X2):\n",
        "  return np.sqrt(np.dot(X1,X2.T))"
      ],
      "execution_count": 17,
      "outputs": []
    },
    {
      "cell_type": "code",
      "metadata": {
        "colab": {
          "base_uri": "https://localhost:8080/"
        },
        "id": "t3RLqni3CZTl",
        "outputId": "e545c692-e5ce-4ee4-dbc4-3bffb2d8d867"
      },
      "source": [
        "# final SVMC algorithm\n",
        "# scaling the feature matrix values into a td distribution\n",
        "\n",
        "# X_train = scale(features)\n",
        "X_train = features\n",
        "y_train = target\n",
        "y_train = y_train.astype('int')\n",
        "\n",
        "\n",
        "# X_test = scale(df_final_test.loc[:, df_final_test.columns != 'letter'])\n",
        "X_test = df_final_test.loc[:, df_final_test.columns != 'letter']\n",
        "y_test = df_final_test.loc[:, ['letter']]\n",
        "y_test = y_test.astype('int')\n",
        "\n",
        "\n",
        "# model training\n",
        "import warnings\n",
        "warnings.filterwarnings(\"ignore\")\n",
        "kernels = ['linear', 'rbf', 'poly']\n",
        "for kernel in kernels:\n",
        "    model = SVC(kernel = kernel)\n",
        "    model.fit(X_train, y_train)\n",
        "    y_pred = model.predict(X_test)\n",
        "    acc = accuracy_score(y_true = y_test, y_pred = y_pred)\n",
        "    print(f\"Kernel = {kernel}, accuracy = {acc * 100}\")\n",
        "\n",
        "model = SVC(kernel = hellinger)\n",
        "model.fit(X_train, y_train)\n",
        "y_pred = model.predict(X_test)\n",
        "acc = accuracy_score(y_true = y_test, y_pred = y_pred)\n",
        "print(f\"Kernel = hellinger, accuracy = {acc * 100}\")\n",
        "\n",
        "model = SVC(kernel = chi2_kernel)\n",
        "model.fit(X_train, y_train)\n",
        "y_pred = model.predict(X_test)\n",
        "acc = accuracy_score(y_true = y_test, y_pred = y_pred)\n",
        "print(f\"Kernel = chi2_kernel, accuracy = {acc * 100}\")\n"
      ],
      "execution_count": 18,
      "outputs": [
        {
          "output_type": "stream",
          "name": "stdout",
          "text": [
            "Kernel = linear, accuracy = 94.44444444444444\nKernel = rbf, accuracy = 93.37606837606837\nKernel = poly, accuracy = 98.07692307692307\nKernel = hellinger, accuracy = 92.52136752136752\nKernel = chi2_kernel, accuracy = 95.94017094017094\n"
          ]
        }
      ]
    },
    {
      "cell_type": "code",
      "metadata": {
        "id": "6GhPTHGmCqg8"
      },
      "source": [],
      "execution_count": null,
      "outputs": []
    }
  ]
}